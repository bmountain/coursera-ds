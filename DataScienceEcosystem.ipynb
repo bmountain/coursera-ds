{
 "cells": [
  {
   "cell_type": "markdown",
   "id": "bbe93390-beff-4dd6-813c-fdea839acc77",
   "metadata": {},
   "source": [
    "# Data Science Tools and Ecosystem"
   ]
  },
  {
   "cell_type": "markdown",
   "id": "22451eca-5c4f-44e4-bde3-ef775d101d54",
   "metadata": {},
   "source": [
    "In this notebook, Data Science Tools and Ecosystem are summarized."
   ]
  },
  {
   "cell_type": "markdown",
   "id": "f9813471-6226-4ad0-b242-005607b52860",
   "metadata": {},
   "source": [
    "**Objectives:**\n",
    "- List popular languages for data science\n",
    "- List commonly libraries for data science\n",
    "- List some data science tools\n",
    "- Provide examples of arithmeticexpressions in Python"
   ]
  },
  {
   "cell_type": "markdown",
   "id": "ab7c76ee-94ff-4a5b-a1a3-31ce6bba11d0",
   "metadata": {},
   "source": [
    "Some of the popular languages that Data Scientists use are:\n",
    "1. Python\n",
    "2. R\n",
    "3. Julia"
   ]
  },
  {
   "cell_type": "markdown",
   "id": "e9686556-4621-4aa8-95bc-72d3b927289c",
   "metadata": {},
   "source": [
    "Some of the commonly used libraries used by Data Scientists include:\n",
    "1. pandas\n",
    "2. scikit-learn\n",
    "3. tensorflow"
   ]
  },
  {
   "cell_type": "markdown",
   "id": "0d1bd425-bb8d-4bc5-a905-8e3f7106bb94",
   "metadata": {},
   "source": [
    "|Data Science Tools|\n",
    "|------------------|\n",
    "|Jupyter Notebook  |\n",
    "|Jupyter Lab       |\n",
    "|R Studio          |"
   ]
  },
  {
   "cell_type": "markdown",
   "id": "258c573e-5ebf-4bf5-9072-aad5f3f2c3bb",
   "metadata": {
    "tags": []
   },
   "source": [
    "### Below are a few examples of evaluating arithmetic expressions in Python"
   ]
  },
  {
   "cell_type": "code",
   "execution_count": 2,
   "id": "1ee3abd2-589c-40d1-898d-7c10e3d03981",
   "metadata": {
    "tags": []
   },
   "outputs": [
    {
     "data": {
      "text/plain": [
       "17"
      ]
     },
     "execution_count": 2,
     "metadata": {},
     "output_type": "execute_result"
    }
   ],
   "source": [
    "#This a simple arithmetic expression to mutiply then add integers\n",
    "(3*4)+5"
   ]
  },
  {
   "cell_type": "code",
   "execution_count": 3,
   "id": "d733f860-6fa4-4ab9-9f53-c91e1feb4d54",
   "metadata": {
    "tags": []
   },
   "outputs": [
    {
     "data": {
      "text/plain": [
       "3.3333333333333335"
      ]
     },
     "execution_count": 3,
     "metadata": {},
     "output_type": "execute_result"
    }
   ],
   "source": [
    "#  This will convert 200 minutes to hours by diving by 60\n",
    "200/60"
   ]
  },
  {
   "cell_type": "markdown",
   "id": "ec2b8939-2401-4916-aa75-7890e8bc226f",
   "metadata": {},
   "source": [
    "## Author\n",
    "Tomohito Aoyama"
   ]
  },
  {
   "cell_type": "code",
   "execution_count": null,
   "id": "d54bb6c9-7e77-41e0-8462-3620f6e05110",
   "metadata": {},
   "outputs": [],
   "source": []
  }
 ],
 "metadata": {
  "kernelspec": {
   "display_name": "Python",
   "language": "python",
   "name": "conda-env-python-py"
  },
  "language_info": {
   "codemirror_mode": {
    "name": "ipython",
    "version": 3
   },
   "file_extension": ".py",
   "mimetype": "text/x-python",
   "name": "python",
   "nbconvert_exporter": "python",
   "pygments_lexer": "ipython3",
   "version": "3.7.12"
  }
 },
 "nbformat": 4,
 "nbformat_minor": 5
}
